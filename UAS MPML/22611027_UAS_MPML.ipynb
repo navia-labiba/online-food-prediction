{
  "cells": [
    {
      "cell_type": "code",
      "execution_count": 1,
      "metadata": {
        "id": "WImKhf_A97TF"
      },
      "outputs": [],
      "source": [
        "import seaborn as sns\n",
        "import matplotlib.pyplot as plt\n",
        "import pandas as pd\n",
        "import numpy as np\n",
        "import matplotlib.pyplot as plt\n",
        "import seaborn as sns\n",
        "from sklearn.model_selection import train_test_split\n",
        "from sklearn.preprocessing import StandardScaler, OneHotEncoder\n",
        "from sklearn.compose import ColumnTransformer\n",
        "from sklearn.pipeline import Pipeline\n",
        "from sklearn.impute import SimpleImputer\n",
        "from sklearn.linear_model import LinearRegression\n",
        "from sklearn.tree import DecisionTreeRegressor\n",
        "from sklearn.svm import SVR\n",
        "from sklearn.metrics import mean_absolute_error, mean_squared_error, r2_score"
      ]
    },
    {
      "cell_type": "code",
      "execution_count": 2,
      "metadata": {
        "colab": {
          "base_uri": "https://localhost:8080/",
          "height": 510
        },
        "id": "5GRpI25hFCyU",
        "outputId": "f961be73-cc40-4bfc-c98e-f3912c9015cd"
      },
      "outputs": [
        {
          "data": {
            "text/html": [
              "<div>\n",
              "<style scoped>\n",
              "    .dataframe tbody tr th:only-of-type {\n",
              "        vertical-align: middle;\n",
              "    }\n",
              "\n",
              "    .dataframe tbody tr th {\n",
              "        vertical-align: top;\n",
              "    }\n",
              "\n",
              "    .dataframe thead th {\n",
              "        text-align: right;\n",
              "    }\n",
              "</style>\n",
              "<table border=\"1\" class=\"dataframe\">\n",
              "  <thead>\n",
              "    <tr style=\"text-align: right;\">\n",
              "      <th></th>\n",
              "      <th>Age</th>\n",
              "      <th>Gender</th>\n",
              "      <th>Marital Status</th>\n",
              "      <th>Occupation</th>\n",
              "      <th>Monthly Income</th>\n",
              "      <th>Educational Qualifications</th>\n",
              "      <th>Family size</th>\n",
              "      <th>latitude</th>\n",
              "      <th>longitude</th>\n",
              "      <th>Pin code</th>\n",
              "      <th>Output</th>\n",
              "      <th>Feedback</th>\n",
              "      <th>Unnamed: 12</th>\n",
              "    </tr>\n",
              "  </thead>\n",
              "  <tbody>\n",
              "    <tr>\n",
              "      <th>0</th>\n",
              "      <td>20</td>\n",
              "      <td>Female</td>\n",
              "      <td>Single</td>\n",
              "      <td>Student</td>\n",
              "      <td>No Income</td>\n",
              "      <td>Post Graduate</td>\n",
              "      <td>4</td>\n",
              "      <td>12.9766</td>\n",
              "      <td>77.5993</td>\n",
              "      <td>560001</td>\n",
              "      <td>Yes</td>\n",
              "      <td>Positive</td>\n",
              "      <td>Yes</td>\n",
              "    </tr>\n",
              "    <tr>\n",
              "      <th>1</th>\n",
              "      <td>24</td>\n",
              "      <td>Female</td>\n",
              "      <td>Single</td>\n",
              "      <td>Student</td>\n",
              "      <td>Below Rs.10000</td>\n",
              "      <td>Graduate</td>\n",
              "      <td>3</td>\n",
              "      <td>12.9770</td>\n",
              "      <td>77.5773</td>\n",
              "      <td>560009</td>\n",
              "      <td>Yes</td>\n",
              "      <td>Positive</td>\n",
              "      <td>Yes</td>\n",
              "    </tr>\n",
              "    <tr>\n",
              "      <th>2</th>\n",
              "      <td>22</td>\n",
              "      <td>Male</td>\n",
              "      <td>Single</td>\n",
              "      <td>Student</td>\n",
              "      <td>Below Rs.10000</td>\n",
              "      <td>Post Graduate</td>\n",
              "      <td>3</td>\n",
              "      <td>12.9551</td>\n",
              "      <td>77.6593</td>\n",
              "      <td>560017</td>\n",
              "      <td>Yes</td>\n",
              "      <td>Negative</td>\n",
              "      <td>Yes</td>\n",
              "    </tr>\n",
              "    <tr>\n",
              "      <th>3</th>\n",
              "      <td>22</td>\n",
              "      <td>Female</td>\n",
              "      <td>Single</td>\n",
              "      <td>Student</td>\n",
              "      <td>No Income</td>\n",
              "      <td>Graduate</td>\n",
              "      <td>6</td>\n",
              "      <td>12.9473</td>\n",
              "      <td>77.5616</td>\n",
              "      <td>560019</td>\n",
              "      <td>Yes</td>\n",
              "      <td>Positive</td>\n",
              "      <td>Yes</td>\n",
              "    </tr>\n",
              "    <tr>\n",
              "      <th>4</th>\n",
              "      <td>22</td>\n",
              "      <td>Male</td>\n",
              "      <td>Single</td>\n",
              "      <td>Student</td>\n",
              "      <td>Below Rs.10000</td>\n",
              "      <td>Post Graduate</td>\n",
              "      <td>4</td>\n",
              "      <td>12.9850</td>\n",
              "      <td>77.5533</td>\n",
              "      <td>560010</td>\n",
              "      <td>Yes</td>\n",
              "      <td>Positive</td>\n",
              "      <td>Yes</td>\n",
              "    </tr>\n",
              "    <tr>\n",
              "      <th>...</th>\n",
              "      <td>...</td>\n",
              "      <td>...</td>\n",
              "      <td>...</td>\n",
              "      <td>...</td>\n",
              "      <td>...</td>\n",
              "      <td>...</td>\n",
              "      <td>...</td>\n",
              "      <td>...</td>\n",
              "      <td>...</td>\n",
              "      <td>...</td>\n",
              "      <td>...</td>\n",
              "      <td>...</td>\n",
              "      <td>...</td>\n",
              "    </tr>\n",
              "    <tr>\n",
              "      <th>383</th>\n",
              "      <td>23</td>\n",
              "      <td>Female</td>\n",
              "      <td>Single</td>\n",
              "      <td>Student</td>\n",
              "      <td>No Income</td>\n",
              "      <td>Post Graduate</td>\n",
              "      <td>2</td>\n",
              "      <td>12.9766</td>\n",
              "      <td>77.5993</td>\n",
              "      <td>560001</td>\n",
              "      <td>Yes</td>\n",
              "      <td>Positive</td>\n",
              "      <td>Yes</td>\n",
              "    </tr>\n",
              "    <tr>\n",
              "      <th>384</th>\n",
              "      <td>23</td>\n",
              "      <td>Female</td>\n",
              "      <td>Single</td>\n",
              "      <td>Student</td>\n",
              "      <td>No Income</td>\n",
              "      <td>Post Graduate</td>\n",
              "      <td>4</td>\n",
              "      <td>12.9854</td>\n",
              "      <td>77.7081</td>\n",
              "      <td>560048</td>\n",
              "      <td>Yes</td>\n",
              "      <td>Positive</td>\n",
              "      <td>Yes</td>\n",
              "    </tr>\n",
              "    <tr>\n",
              "      <th>385</th>\n",
              "      <td>22</td>\n",
              "      <td>Female</td>\n",
              "      <td>Single</td>\n",
              "      <td>Student</td>\n",
              "      <td>No Income</td>\n",
              "      <td>Post Graduate</td>\n",
              "      <td>5</td>\n",
              "      <td>12.9850</td>\n",
              "      <td>77.5533</td>\n",
              "      <td>560010</td>\n",
              "      <td>Yes</td>\n",
              "      <td>Positive</td>\n",
              "      <td>Yes</td>\n",
              "    </tr>\n",
              "    <tr>\n",
              "      <th>386</th>\n",
              "      <td>23</td>\n",
              "      <td>Male</td>\n",
              "      <td>Single</td>\n",
              "      <td>Student</td>\n",
              "      <td>Below Rs.10000</td>\n",
              "      <td>Post Graduate</td>\n",
              "      <td>2</td>\n",
              "      <td>12.9770</td>\n",
              "      <td>77.5773</td>\n",
              "      <td>560009</td>\n",
              "      <td>Yes</td>\n",
              "      <td>Positive</td>\n",
              "      <td>Yes</td>\n",
              "    </tr>\n",
              "    <tr>\n",
              "      <th>387</th>\n",
              "      <td>23</td>\n",
              "      <td>Male</td>\n",
              "      <td>Single</td>\n",
              "      <td>Student</td>\n",
              "      <td>No Income</td>\n",
              "      <td>Post Graduate</td>\n",
              "      <td>5</td>\n",
              "      <td>12.8988</td>\n",
              "      <td>77.5764</td>\n",
              "      <td>560078</td>\n",
              "      <td>Yes</td>\n",
              "      <td>Positive</td>\n",
              "      <td>Yes</td>\n",
              "    </tr>\n",
              "  </tbody>\n",
              "</table>\n",
              "<p>388 rows × 13 columns</p>\n",
              "</div>"
            ],
            "text/plain": [
              "     Age  Gender Marital Status Occupation  Monthly Income  \\\n",
              "0     20  Female         Single    Student       No Income   \n",
              "1     24  Female         Single    Student  Below Rs.10000   \n",
              "2     22    Male         Single    Student  Below Rs.10000   \n",
              "3     22  Female         Single    Student       No Income   \n",
              "4     22    Male         Single    Student  Below Rs.10000   \n",
              "..   ...     ...            ...        ...             ...   \n",
              "383   23  Female         Single    Student       No Income   \n",
              "384   23  Female         Single    Student       No Income   \n",
              "385   22  Female         Single    Student       No Income   \n",
              "386   23    Male         Single    Student  Below Rs.10000   \n",
              "387   23    Male         Single    Student       No Income   \n",
              "\n",
              "    Educational Qualifications  Family size  latitude  longitude  Pin code  \\\n",
              "0                Post Graduate            4   12.9766    77.5993    560001   \n",
              "1                     Graduate            3   12.9770    77.5773    560009   \n",
              "2                Post Graduate            3   12.9551    77.6593    560017   \n",
              "3                     Graduate            6   12.9473    77.5616    560019   \n",
              "4                Post Graduate            4   12.9850    77.5533    560010   \n",
              "..                         ...          ...       ...        ...       ...   \n",
              "383              Post Graduate            2   12.9766    77.5993    560001   \n",
              "384              Post Graduate            4   12.9854    77.7081    560048   \n",
              "385              Post Graduate            5   12.9850    77.5533    560010   \n",
              "386              Post Graduate            2   12.9770    77.5773    560009   \n",
              "387              Post Graduate            5   12.8988    77.5764    560078   \n",
              "\n",
              "    Output   Feedback Unnamed: 12  \n",
              "0      Yes   Positive         Yes  \n",
              "1      Yes   Positive         Yes  \n",
              "2      Yes  Negative          Yes  \n",
              "3      Yes   Positive         Yes  \n",
              "4      Yes   Positive         Yes  \n",
              "..     ...        ...         ...  \n",
              "383    Yes   Positive         Yes  \n",
              "384    Yes   Positive         Yes  \n",
              "385    Yes   Positive         Yes  \n",
              "386    Yes   Positive         Yes  \n",
              "387    Yes   Positive         Yes  \n",
              "\n",
              "[388 rows x 13 columns]"
            ]
          },
          "execution_count": 2,
          "metadata": {},
          "output_type": "execute_result"
        }
      ],
      "source": [
        "import pandas as pd\n",
        "data = pd.read_csv('onlinefoods.csv', delimiter=',', encoding=\"ISO-8859-1\")\n",
        "data"
      ]
    },
    {
      "cell_type": "code",
      "execution_count": 3,
      "metadata": {
        "colab": {
          "base_uri": "https://localhost:8080/",
          "height": 430
        },
        "id": "NIbPFY1fFukj",
        "outputId": "e5d0d549-9b8d-469e-a52e-6a28efffa8e9"
      },
      "outputs": [
        {
          "data": {
            "image/png": "[encoded data removed]",
            "text/plain": [
              "<Figure size 640x480 with 1 Axes>"
            ]
          },
          "metadata": {},
          "output_type": "display_data"
        }
      ],
      "source": [
        "# @title Monthly Income\n",
        "\n",
        "from matplotlib import pyplot as plt\n",
        "import seaborn as sns\n",
        "data.groupby('Monthly Income').size().plot(kind='barh', color=sns.palettes.mpl_palette('Dark2'))\n",
        "plt.gca().spines[['top', 'right',]].set_visible(False)"
      ]
    },
    {
      "cell_type": "code",
      "execution_count": 4,
      "metadata": {
        "colab": {
          "base_uri": "https://localhost:8080/",
          "height": 718
        },
        "id": "iFw-yrcAFKG2",
        "outputId": "32f6c333-08c3-4b73-bcdd-48d8d1f08906"
      },
      "outputs": [
        {
          "data": {
            "image/png": "[encoded data removed]",
            "text/plain": [
              "<Figure size 1000x800 with 1 Axes>"
            ]
          },
          "metadata": {},
          "output_type": "display_data"
        }
      ],
      "source": [
        "import pandas as pd\n",
        "from matplotlib import pyplot as plt\n",
        "import seaborn as sns\n",
        "\n",
        "# Misalkan 'data' adalah DataFrame Anda\n",
        "# Kelompokkan data berdasarkan 'Brand_Name' dan hitung ukuran masing-masing grup\n",
        "Gender_counts = data.groupby('Gender').size().sort_values(ascending=False)\n",
        "\n",
        "# Plot hasil\n",
        "plt.figure(figsize=(10, 8))\n",
        "Gender_counts.plot(kind='barh', color=sns.color_palette('Dark2', n_colors=len(Gender_counts)))\n",
        "plt.gca().spines[['top', 'right']].set_visible(False)\n",
        "plt.xlabel('Jumlah')\n",
        "plt.ylabel('jenis kelamin')\n",
        "plt.title('Banyaknya pembeli berdasakan jenis kelamin')\n",
        "plt.show()"
      ]
    },
    {
      "cell_type": "code",
      "execution_count": 5,
      "metadata": {
        "colab": {
          "base_uri": "https://localhost:8080/",
          "height": 718
        },
        "id": "f_DLrImyF2iw",
        "outputId": "38f3b3c2-99b9-47b3-9b48-fb2cd1c8ea29"
      },
      "outputs": [
        {
          "data": {
            "image/png": "[encoded data removed]",
            "text/plain": [
              "<Figure size 1000x800 with 1 Axes>"
            ]
          },
          "metadata": {},
          "output_type": "display_data"
        }
      ],
      "source": [
        "# Misalkan 'data' adalah DataFrame Anda\n",
        "# Kelompokkan data berdasarkan 'Brand_Name' dan hitung ukuran masing-masing grup\n",
        "Income_counts = data.groupby('Monthly Income').size().sort_values(ascending=False)\n",
        "\n",
        "# Plot hasil\n",
        "plt.figure(figsize=(10, 8))\n",
        "Income_counts.plot(kind='barh', color=sns.color_palette('Dark2', n_colors=len(Income_counts)))\n",
        "plt.gca().spines[['top', 'right']].set_visible(False)\n",
        "plt.xlabel('Jumlah')\n",
        "plt.ylabel('Bulan')\n",
        "plt.title('Pemasukan Pelanggan Tiap Bulan')\n",
        "plt.show()"
      ]
    },
    {
      "cell_type": "code",
      "execution_count": 6,
      "metadata": {
        "id": "6U7LYKmUfKNj"
      },
      "outputs": [],
      "source": [
        "import pandas as pd\n",
        "from sklearn.model_selection import train_test_split\n",
        "from sklearn.preprocessing import StandardScaler, OneHotEncoder\n",
        "from sklearn.impute import SimpleImputer\n",
        "from sklearn.compose import ColumnTransformer\n",
        "from sklearn.pipeline import Pipeline"
      ]
    },
    {
      "cell_type": "code",
      "execution_count": 8,
      "metadata": {
        "id": "Q20mHZtSgDZn"
      },
      "outputs": [],
      "source": [
        "# Load the dataset\n",
        "data = pd.read_csv('onlinefoods.csv')\n",
        "# Strip any leading/trailing whitespace from column names\n",
        "data.columns = data.columns.str.strip()\n",
        "# Drop unnecessary columns\n",
        "data = data.drop(columns=['Unnamed: 12'])\n",
        "# Identify categorical and numerical columns\n",
        "categorical_cols = ['Gender', 'Marital Status', 'Occupation', 'Educational Qualifications']\n",
        "numerical_cols = ['Age', 'Monthly Income', 'Family size', 'latitude', 'longitude', 'Pin code']"
      ]
    },
    {
      "cell_type": "code",
      "execution_count": 9,
      "metadata": {
        "colab": {
          "base_uri": "https://localhost:8080/"
        },
        "id": "LLyukwqDfUu9",
        "outputId": "19fdb657-789f-4ef8-b9ed-9034eff75d47"
      },
      "outputs": [
        {
          "name": "stdout",
          "output_type": "stream",
          "text": [
            "Age                           0\n",
            "Gender                        0\n",
            "Marital Status                0\n",
            "Occupation                    0\n",
            "Monthly Income                0\n",
            "Educational Qualifications    0\n",
            "Family size                   0\n",
            "latitude                      0\n",
            "longitude                     0\n",
            "Pin code                      0\n",
            "Output                        0\n",
            "Feedback                      0\n",
            "dtype: int64\n"
          ]
        }
      ],
      "source": [
        "# Check for missing values\n",
        "missing_values = data.isnull().sum()\n",
        "print(missing_values)"
      ]
    },
    {
      "cell_type": "code",
      "execution_count": 10,
      "metadata": {
        "id": "KT9haFYqfVhv"
      },
      "outputs": [],
      "source": [
        "import pandas as pd\n",
        "from sklearn.model_selection import train_test_split\n",
        "from sklearn.preprocessing import StandardScaler, OneHotEncoder\n",
        "from sklearn.impute import SimpleImputer\n",
        "from sklearn.compose import ColumnTransformer\n",
        "from sklearn.pipeline import Pipeline\n",
        "from sklearn.linear_model import LogisticRegression # Import LogisticRegression\n",
        "from sklearn.ensemble import RandomForestClassifier\n",
        "from sklearn.svm import SVC\n",
        "from sklearn.metrics import mean_squared_error, r2_score\n",
        "from sklearn.model_selection import cross_val_score\n"
      ]
    },
    {
      "cell_type": "code",
      "execution_count": 11,
      "metadata": {
        "colab": {
          "base_uri": "https://localhost:8080/"
        },
        "id": "qucL4pa8fX3v",
        "outputId": "6212d278-eba6-4e26-e24f-479eab3dd019"
      },
      "outputs": [
        {
          "name": "stdout",
          "output_type": "stream",
          "text": [
            "(388, 26)\n"
          ]
        }
      ],
      "source": [
        "# Separate features and target variable\n",
        "X = data.drop(['Output'], axis=1)\n",
        "y = data['Output']\n",
        "\n",
        "# Encoding categorical variables\n",
        "categorical_features = ['Gender', 'Marital Status', 'Occupation', 'Monthly Income',\n",
        "                        'Educational Qualifications', 'Feedback']\n",
        "numerical_features = ['Age', 'Family size', 'latitude', 'longitude', 'Pin code']\n",
        "\n",
        "# Preprocessing pipeline for numerical and categorical features\n",
        "preprocessor = ColumnTransformer(\n",
        "    transformers=[\n",
        "        ('num', StandardScaler(), numerical_features),\n",
        "        ('cat', OneHotEncoder(), categorical_features)\n",
        "    ])\n",
        "\n",
        "# Preprocess the data\n",
        "X_processed = preprocessor.fit_transform(X)\n",
        "\n",
        "print(X_processed.shape)"
      ]
    },
    {
      "cell_type": "code",
      "execution_count": 12,
      "metadata": {
        "colab": {
          "base_uri": "https://localhost:8080/"
        },
        "id": "Y-21fv7yfaTP",
        "outputId": "d27f92bb-15ed-4947-cb7f-6f8da7fc3dff"
      },
      "outputs": [
        {
          "name": "stdout",
          "output_type": "stream",
          "text": [
            "(388, 26)\n",
            "Logistic Regression CV Mean Accuracy: 0.8741935483870968\n",
            "Model: Logistic Regression\n",
            "Mean Squared Error: 0.1282051282051282\n",
            "R-squared: 0.015151515151514805\n",
            "\n",
            "\n",
            "Random Forest CV Mean Accuracy: 0.9064516129032258\n",
            "Model: Random Forest\n",
            "Mean Squared Error: 0.10256410256410256\n",
            "R-squared: 0.21212121212121182\n",
            "\n",
            "\n",
            "SVM CV Mean Accuracy: 0.8741935483870968\n",
            "Model: SVM\n",
            "Mean Squared Error: 0.1282051282051282\n",
            "R-squared: 0.015151515151514805\n",
            "\n",
            "\n"
          ]
        }
      ],
      "source": [
        "# Separate features and target variable\n",
        "X = data.drop(['Output'], axis=1)\n",
        "y = data['Output']\n",
        "\n",
        "# Convert target variable to numerical (assuming 'Yes' maps to 1 and other values to 0)\n",
        "y = y.apply(lambda x: 1 if x == 'Yes' else 0)\n",
        "\n",
        "# Encoding categorical variables\n",
        "categorical_features = ['Gender', 'Marital Status', 'Occupation', 'Monthly Income', 'Educational Qualifications', 'Feedback']\n",
        "numerical_features = ['Age', 'Family size', 'latitude', 'longitude', 'Pin code']\n",
        "\n",
        "# Preprocessing pipeline for numerical and categorical features\n",
        "preprocessor = ColumnTransformer(\n",
        "    transformers=[\n",
        "        ('num', StandardScaler(), numerical_features),\n",
        "        ('cat', OneHotEncoder(), categorical_features) # OneHotEncoder to handle categorical features\n",
        "    ])\n",
        "\n",
        "# Preprocess the data\n",
        "X_processed = preprocessor.fit_transform(X) # Transform the data using the preprocessor\n",
        "\n",
        "# Split data into train and test sets after preprocessing\n",
        "X_train, X_test, y_train, y_test = train_test_split(X_processed, y, test_size=0.2, random_state=42)\n",
        "\n",
        "print(X_processed.shape)\n",
        "\n",
        "# Initialize models\n",
        "models = {\n",
        "    'Logistic Regression': LogisticRegression(random_state=42),\n",
        "    'Random Forest': RandomForestClassifier(random_state=42),\n",
        "    'SVM': SVC(random_state=42)\n",
        "}\n",
        "\n",
        "# Train and evaluate models\n",
        "for name, model in models.items():\n",
        "    # Cross-validation\n",
        "    cv_scores = cross_val_score(model, X_train, y_train, cv=5) # Use preprocessed data for training\n",
        "    print(f\"{name} CV Mean Accuracy: {cv_scores.mean()}\")\n",
        "\n",
        "    # Train the model\n",
        "    model.fit(X_train, y_train) # Use preprocessed data for training\n",
        "\n",
        "    # Predict on test set\n",
        "    y_pred = model.predict(X_test) # Use preprocessed data for testing\n",
        "\n",
        "    # Evaluate the model\n",
        "    print(f\"Model: {name}\")\n",
        "    # Use appropriate metrics for regression tasks\n",
        "    print(f\"Mean Squared Error: {mean_squared_error(y_test, y_pred)}\")\n",
        "    print(f\"R-squared: {r2_score(y_test, y_pred)}\")\n",
        "    print(\"\\n\")"
      ]
    },
    {
      "cell_type": "code",
      "execution_count": 13,
      "metadata": {
        "colab": {
          "base_uri": "https://localhost:8080/"
        },
        "id": "zZKSu8L4fkyh",
        "outputId": "54a8f4a2-15b7-48c5-cce9-9cb24f1c0411"
      },
      "outputs": [
        {
          "name": "stdout",
          "output_type": "stream",
          "text": [
            "(388, 26)\n",
            "Logistic Regression CV Mean Accuracy: 0.8741935483870968\n",
            "Model: Logistic Regression\n",
            "Accuracy: 0.8717948717948718\n",
            "Precision: 0.8638009049773755\n",
            "Recall: 0.8717948717948718\n",
            "F1-Score: 0.8669241206554639\n",
            "              precision    recall  f1-score   support\n",
            "\n",
            "          No       0.60      0.50      0.55        12\n",
            "         Yes       0.91      0.94      0.93        66\n",
            "\n",
            "    accuracy                           0.87        78\n",
            "   macro avg       0.76      0.72      0.74        78\n",
            "weighted avg       0.86      0.87      0.87        78\n",
            "\n",
            "\n",
            "\n",
            "Random Forest CV Mean Accuracy: 0.9064516129032258\n",
            "Model: Random Forest\n",
            "Accuracy: 0.8974358974358975\n",
            "Precision: 0.8916289592760182\n",
            "Recall: 0.8974358974358975\n",
            "F1-Score: 0.8935392965243713\n",
            "              precision    recall  f1-score   support\n",
            "\n",
            "          No       0.70      0.58      0.64        12\n",
            "         Yes       0.93      0.95      0.94        66\n",
            "\n",
            "    accuracy                           0.90        78\n",
            "   macro avg       0.81      0.77      0.79        78\n",
            "weighted avg       0.89      0.90      0.89        78\n",
            "\n",
            "\n",
            "\n",
            "SVM CV Mean Accuracy: 0.8741935483870968\n",
            "Model: SVM\n",
            "Accuracy: 0.8717948717948718\n",
            "Precision: 0.8638009049773755\n",
            "Recall: 0.8717948717948718\n",
            "F1-Score: 0.8669241206554639\n",
            "              precision    recall  f1-score   support\n",
            "\n",
            "          No       0.60      0.50      0.55        12\n",
            "         Yes       0.91      0.94      0.93        66\n",
            "\n",
            "    accuracy                           0.87        78\n",
            "   macro avg       0.76      0.72      0.74        78\n",
            "weighted avg       0.86      0.87      0.87        78\n",
            "\n",
            "\n",
            "\n"
          ]
        }
      ],
      "source": [
        "# Separate features and target variable\n",
        "X = data.drop(['Output'], axis=1)\n",
        "y = data['Output']\n",
        "\n",
        "# Encoding categorical variables\n",
        "categorical_features = ['Gender', 'Marital Status', 'Occupation', 'Monthly Income',\n",
        "                        'Educational Qualifications', 'Feedback']\n",
        "numerical_features = ['Age', 'Family size', 'latitude', 'longitude', 'Pin code']\n",
        "\n",
        "# Preprocessing pipeline for numerical and categorical features\n",
        "preprocessor = ColumnTransformer(\n",
        "    transformers=[\n",
        "        ('num', StandardScaler(), numerical_features),\n",
        "        ('cat', OneHotEncoder(), categorical_features) # OneHotEncoder to handle categorical features\n",
        "    ])\n",
        "\n",
        "# Preprocess the data\n",
        "X_processed = preprocessor.fit_transform(X) # Transform the data using the preprocessor\n",
        "\n",
        "# Split data into train and test sets after preprocessing\n",
        "from sklearn.model_selection import train_test_split\n",
        "X_train, X_test, y_train, y_test = train_test_split(X_processed, y, test_size=0.2, random_state=42)\n",
        "\n",
        "print(X_processed.shape)\n",
        "\n",
        "# Initialize models\n",
        "models = {\n",
        "    'Logistic Regression': LogisticRegression(random_state=42),\n",
        "    'Random Forest': RandomForestClassifier(random_state=42),\n",
        "    'SVM': SVC(random_state=42)\n",
        "}\n",
        "\n",
        "# Import necessary metrics\n",
        "from sklearn.metrics import accuracy_score, precision_score, recall_score, f1_score, classification_report\n",
        "\n",
        "# Train and evaluate models\n",
        "for name, model in models.items():\n",
        "    # Cross-validation\n",
        "    cv_scores = cross_val_score(model, X_train, y_train, cv=5) # Use preprocessed data for training\n",
        "    print(f\"{name} CV Mean Accuracy: {cv_scores.mean()}\")\n",
        "\n",
        "    # Train the model\n",
        "    model.fit(X_train, y_train) # Use preprocessed data for training\n",
        "\n",
        "    # Predict on test set\n",
        "    y_pred = model.predict(X_test) # Use preprocessed data for testing\n",
        "\n",
        "    # Evaluate the model\n",
        "    print(f\"Model: {name}\")\n",
        "    print(f\"Accuracy: {accuracy_score(y_test, y_pred)}\")\n",
        "    print(f\"Precision: {precision_score(y_test, y_pred, average='weighted')}\")\n",
        "    print(f\"Recall: {recall_score(y_test, y_pred, average='weighted')}\")\n",
        "    print(f\"F1-Score: {f1_score(y_test, y_pred, average='weighted')}\")\n",
        "    print(classification_report(y_test, y_pred))\n",
        "    print(\"\\n\")"
      ]
    },
    {
      "cell_type": "code",
      "execution_count": 14,
      "metadata": {
        "colab": {
          "base_uri": "https://localhost:8080/",
          "height": 1000
        },
        "id": "x8EOasLxfop0",
        "outputId": "9a2d0e79-1850-4e25-eefd-6165c70ccf1d"
      },
      "outputs": [
        {
          "data": {
            "image/png": "[encoded data removed]",
            "text/plain": [
              "<Figure size 1000x600 with 1 Axes>"
            ]
          },
          "metadata": {},
          "output_type": "display_data"
        },
        {
          "data": {
            "image/png": "[encoded data removed]",
            "text/plain": [
              "<Figure size 1000x600 with 1 Axes>"
            ]
          },
          "metadata": {},
          "output_type": "display_data"
        }
      ],
      "source": [
        "# ... (previous code)\n",
        "\n",
        "# Initialize a dictionary to store results\n",
        "results = {'Model': [], 'Accuracy': [], 'F1 Score': []}\n",
        "\n",
        "# Train and evaluate models\n",
        "for name, model in models.items():\n",
        "    # ... (model training and evaluation)\n",
        "\n",
        "    # Store results\n",
        "    results['Model'].append(name)\n",
        "    results['Accuracy'].append(accuracy_score(y_test, y_pred))\n",
        "    results['F1 Score'].append(f1_score(y_test, y_pred, average='weighted'))\n",
        "\n",
        "# Create DataFrame from results\n",
        "df_results = pd.DataFrame(results)\n",
        "\n",
        "# Visualization of model performance\n",
        "plt.figure(figsize=(10, 6))\n",
        "sns.barplot(x='Model', y='Accuracy', data=df_results) # Use the results DataFrame\n",
        "plt.title('Model Performance Comparison (Accuracy)')\n",
        "plt.show()\n",
        "\n",
        "plt.figure(figsize=(10, 6))\n",
        "sns.barplot(x='Model', y='F1 Score', data=df_results) # Use the results DataFrame\n",
        "plt.title('Model Performance Comparison (F1 Score)')\n",
        "plt.show()"
      ]
    }
  ],
  "metadata": {
    "colab": {
      "provenance": []
    },
    "kernelspec": {
      "display_name": "Python 3",
      "name": "python3"
    },
    "language_info": {
      "codemirror_mode": {
        "name": "ipython",
        "version": 3
      },
      "file_extension": ".py",
      "mimetype": "text/x-python",
      "name": "python",
      "nbconvert_exporter": "python",
      "pygments_lexer": "ipython3",
      "version": "3.12.4"
    }
  },
  "nbformat": 4,
  "nbformat_minor": 0
}
